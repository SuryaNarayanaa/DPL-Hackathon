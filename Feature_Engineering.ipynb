{
 "cells": [
  {
   "cell_type": "code",
   "execution_count": 5,
   "metadata": {},
   "outputs": [
    {
     "name": "stderr",
     "output_type": "stream",
     "text": [
      "C:\\Users\\SURYA\\AppData\\Local\\Temp\\ipykernel_30264\\2989840989.py:4: DtypeWarning: Columns (27,28,29,30,31,32,33,34,35,36) have mixed types. Specify dtype option on import or set low_memory=False.\n",
      "  race_results = pd.read_csv('Cleaned_Dataset/master_race_results.csv')\n"
     ]
    }
   ],
   "source": [
    "import pandas as pd\n",
    "\n",
    "# --- Load Master Tables ---\n",
    "race_results = pd.read_csv('Cleaned_Dataset/master_race_results.csv')\n",
    "qualifying = pd.read_csv('Cleaned_Dataset/master_qualifying.csv')\n",
    "pit_stops = pd.read_csv('Cleaned_Dataset/master_pit_stops.csv')\n",
    "\n",
    "# --- Driver Consistency Features ---\n",
    "driver_avg_pos = race_results.groupby('driverId')['positionOrder'].mean().reset_index()\n",
    "driver_avg_pos.rename(columns={'positionOrder': 'avg_finishing_position'}, inplace=True)\n",
    "\n",
    "driver_std_pos = race_results.groupby('driverId')['positionOrder'].std().reset_index()\n",
    "driver_std_pos.rename(columns={'positionOrder': 'std_finishing_position'}, inplace=True)\n",
    "\n",
    "qualifying['qualifying_position'] = qualifying['position']  # Assuming 'position' is qualifying position\n",
    "driver_avg_qual = qualifying.groupby('driverId')['qualifying_position'].mean().reset_index()\n",
    "driver_avg_qual.rename(columns={'qualifying_position': 'avg_qualifying_position'}, inplace=True)\n",
    "\n",
    "# --- Team Strength Features ---\n",
    "constructor_points = race_results.groupby(['constructorId', 'year'])['points'].sum().reset_index()\n",
    "constructor_points = constructor_points.groupby('constructorId')['points'].mean().reset_index()\n",
    "constructor_points.rename(columns={'points': 'avg_constructor_points'}, inplace=True)\n",
    "\n",
    "constructor_dnf = race_results[race_results['status'].str.contains('Did not finish', case=False)]\n",
    "constructor_dnf_rate = constructor_dnf.groupby('constructorId').size() / race_results.groupby('constructorId').size()\n",
    "constructor_dnf_rate = constructor_dnf_rate.reset_index(name='constructor_dnf_rate')\n",
    "\n",
    "# --- Track Complexity Features ---\n",
    "position_changes = race_results.groupby(['raceId', 'circuitId'])['positionOrder'].std().reset_index()\n",
    "position_changes = position_changes.groupby('circuitId')['positionOrder'].mean().reset_index()\n",
    "position_changes.rename(columns={'positionOrder': 'avg_position_change'}, inplace=True)\n",
    "\n",
    "# --- Merge Features ---\n",
    "engineered_features = race_results[['raceId', 'driverId', 'constructorId', 'circuitId', 'positionOrder']]\n",
    "engineered_features = engineered_features.merge(driver_avg_pos, on='driverId', how='left')\n",
    "engineered_features = engineered_features.merge(driver_std_pos, on='driverId', how='left')\n",
    "engineered_features = engineered_features.merge(driver_avg_qual, on='driverId', how='left')\n",
    "engineered_features = engineered_features.merge(constructor_points, on='constructorId', how='left')\n",
    "engineered_features = engineered_features.merge(constructor_dnf_rate, on='constructorId', how='left')\n",
    "engineered_features = engineered_features.merge(position_changes, on='circuitId', how='left')\n",
    "\n",
    "# --- Save Engineered Features ---\n",
    "engineered_features.to_csv('Cleaned_Dataset/engineered_features.csv', index=False)"
   ]
  }
 ],
 "metadata": {
  "kernelspec": {
   "display_name": "Kumari",
   "language": "python",
   "name": "python3"
  },
  "language_info": {
   "codemirror_mode": {
    "name": "ipython",
    "version": 3
   },
   "file_extension": ".py",
   "mimetype": "text/x-python",
   "name": "python",
   "nbconvert_exporter": "python",
   "pygments_lexer": "ipython3",
   "version": "3.9.21"
  }
 },
 "nbformat": 4,
 "nbformat_minor": 2
}
